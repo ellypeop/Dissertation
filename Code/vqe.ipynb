{
 "cells": [
  {
   "cell_type": "code",
   "id": "initial_id",
   "metadata": {
    "collapsed": true,
    "ExecuteTime": {
     "end_time": "2024-11-04T21:16:43.583650Z",
     "start_time": "2024-11-04T21:16:39.900875Z"
    }
   },
   "source": [
    "# General imports\n",
    "import numpy as np\n",
    "\n",
    "# Pre-defined ansatz circuit and operator class for Hamiltonian\n",
    "from qiskit.circuit.library import EfficientSU2\n",
    "from qiskit.quantum_info import SparsePauliOp\n",
    "\n",
    "# SciPy minimizer routine\n",
    "from scipy.optimize import minimize\n",
    "\n",
    "# Plotting functions\n",
    "import matplotlib.pyplot as plt"
   ],
   "outputs": [],
   "execution_count": 1
  },
  {
   "metadata": {
    "ExecuteTime": {
     "end_time": "2024-11-04T21:16:46.383669Z",
     "start_time": "2024-11-04T21:16:44.445756Z"
    }
   },
   "cell_type": "code",
   "source": [
    "from qiskit_ibm_runtime import QiskitRuntimeService\n",
    "\n",
    "# Save an IBM Cloud account on disk\n",
    "token = 'a9eb29bb95b80902e25e92793712fec6704c61eb1b875dd3a00eee41a52a499744985608913bad9fbb354d4c513bc5d43d5a92a2646c135045a675e57808abba'  # <== Use your token here\n",
    "QiskitRuntimeService.save_account(channel=\"ibm_quantum\", token=token, overwrite=True)"
   ],
   "id": "5d51309e0d8fe2f9",
   "outputs": [],
   "execution_count": 2
  },
  {
   "cell_type": "code",
   "source": [
    "# runtime imports\n",
    "from qiskit_ibm_runtime import QiskitRuntimeService, Session\n",
    "from qiskit_ibm_runtime import EstimatorV2 as Estimator\n",
    "\n",
    "# To run on hardware, select the backend with the fewest number of jobs in the queue\n",
    "service = QiskitRuntimeService(channel=\"ibm_quantum\")\n",
    "backend = service.least_busy(operational=True, simulator=False)\n"
   ],
   "metadata": {
    "collapsed": false,
    "ExecuteTime": {
     "end_time": "2024-11-04T21:17:04.554001Z",
     "start_time": "2024-11-04T21:16:50.489688Z"
    }
   },
   "id": "d3c470d7d5afffd6",
   "outputs": [],
   "execution_count": 3
  },
  {
   "metadata": {
    "ExecuteTime": {
     "end_time": "2024-10-25T19:04:36.543623Z",
     "start_time": "2024-10-25T19:04:36.537468Z"
    }
   },
   "cell_type": "code",
   "source": "type(backend)",
   "id": "6a217100d5a372e8",
   "outputs": [
    {
     "data": {
      "text/plain": [
       "qiskit_ibm_runtime.ibm_backend.IBMBackend"
      ]
     },
     "execution_count": 4,
     "metadata": {},
     "output_type": "execute_result"
    }
   ],
   "execution_count": 4
  },
  {
   "metadata": {
    "ExecuteTime": {
     "end_time": "2024-10-25T19:04:37.875895Z",
     "start_time": "2024-10-25T19:04:37.593176Z"
    }
   },
   "cell_type": "code",
   "source": [
    "status = backend.status()\n",
    "print(status)"
   ],
   "id": "d51f6bbf1b119056",
   "outputs": [
    {
     "name": "stdout",
     "output_type": "stream",
     "text": [
      "<qiskit_ibm_runtime.models.backend_status.BackendStatus object at 0x000002195735F950>\n"
     ]
    }
   ],
   "execution_count": 5
  },
  {
   "metadata": {
    "ExecuteTime": {
     "end_time": "2024-10-25T19:04:39.015713Z",
     "start_time": "2024-10-25T19:04:39.011685Z"
    }
   },
   "cell_type": "code",
   "source": "print(status.to_dict())",
   "id": "da92746fddf5bf73",
   "outputs": [
    {
     "name": "stdout",
     "output_type": "stream",
     "text": [
      "{'backend_name': 'ibm_brisbane', 'backend_version': '', 'operational': True, 'pending_jobs': 37, 'status_msg': 'active'}\n"
     ]
    }
   ],
   "execution_count": 6
  },
  {
   "metadata": {
    "ExecuteTime": {
     "end_time": "2024-10-25T19:04:39.694620Z",
     "start_time": "2024-10-25T19:04:39.690679Z"
    }
   },
   "cell_type": "code",
   "source": "print(status.operational)",
   "id": "af127f81044d75fc",
   "outputs": [
    {
     "name": "stdout",
     "output_type": "stream",
     "text": [
      "True\n"
     ]
    }
   ],
   "execution_count": 7
  },
  {
   "metadata": {
    "ExecuteTime": {
     "end_time": "2024-10-25T19:04:40.294858Z",
     "start_time": "2024-10-25T19:04:40.291222Z"
    }
   },
   "cell_type": "code",
   "source": "print(status.pending_jobs)",
   "id": "2c611c1ffc59e434",
   "outputs": [
    {
     "name": "stdout",
     "output_type": "stream",
     "text": [
      "37\n"
     ]
    }
   ],
   "execution_count": 8
  },
  {
   "metadata": {
    "ExecuteTime": {
     "end_time": "2024-10-25T19:04:40.944412Z",
     "start_time": "2024-10-25T19:04:40.939712Z"
    }
   },
   "cell_type": "code",
   "source": "print(dir(status))",
   "id": "e947c2fcee448949",
   "outputs": [
    {
     "name": "stdout",
     "output_type": "stream",
     "text": [
      "['__class__', '__delattr__', '__dict__', '__dir__', '__doc__', '__eq__', '__format__', '__ge__', '__getattribute__', '__getstate__', '__gt__', '__hash__', '__init__', '__init_subclass__', '__le__', '__lt__', '__module__', '__ne__', '__new__', '__reduce__', '__reduce_ex__', '__repr__', '__setattr__', '__sizeof__', '__str__', '__subclasshook__', '__weakref__', '_repr_html_', 'backend_name', 'backend_version', 'from_dict', 'operational', 'pending_jobs', 'status_msg', 'to_dict']\n"
     ]
    }
   ],
   "execution_count": 9
  },
  {
   "cell_type": "code",
   "source": [
    "hamiltonian = SparsePauliOp.from_list(\n",
    "    [(\"YZ\", 0.3980), (\"ZI\", -0.3980), (\"ZZ\", -0.0113), (\"XX\", 0.1810)]\n",
    ")"
   ],
   "metadata": {
    "collapsed": false,
    "ExecuteTime": {
     "end_time": "2024-11-04T21:18:37.333653Z",
     "start_time": "2024-11-04T21:18:37.318439Z"
    }
   },
   "id": "7148d8350ecc1354",
   "outputs": [],
   "execution_count": 4
  },
  {
   "metadata": {
    "ExecuteTime": {
     "end_time": "2024-11-04T21:18:46.408391Z",
     "start_time": "2024-11-04T21:18:46.398757Z"
    }
   },
   "cell_type": "code",
   "source": "hamiltonian.num_qubits",
   "id": "dd75dff6e1cb9ea8",
   "outputs": [
    {
     "data": {
      "text/plain": [
       "2"
      ]
     },
     "execution_count": 5,
     "metadata": {},
     "output_type": "execute_result"
    }
   ],
   "execution_count": 5
  },
  {
   "metadata": {
    "ExecuteTime": {
     "end_time": "2024-10-25T19:04:43.448434Z",
     "start_time": "2024-10-25T19:04:43.443245Z"
    }
   },
   "cell_type": "code",
   "source": "type(hamiltonian)",
   "id": "96da0c86fcacb14e",
   "outputs": [
    {
     "data": {
      "text/plain": [
       "qiskit.quantum_info.operators.symplectic.sparse_pauli_op.SparsePauliOp"
      ]
     },
     "execution_count": 11,
     "metadata": {},
     "output_type": "execute_result"
    }
   ],
   "execution_count": 11
  },
  {
   "metadata": {
    "ExecuteTime": {
     "end_time": "2024-10-25T19:04:44.142298Z",
     "start_time": "2024-10-25T19:04:44.138457Z"
    }
   },
   "cell_type": "code",
   "source": "hamiltonian.coeffs",
   "id": "57ce9afeae4addbd",
   "outputs": [
    {
     "data": {
      "text/plain": [
       "array([ 0.398 +0.j, -0.398 +0.j, -0.0113+0.j,  0.181 +0.j])"
      ]
     },
     "execution_count": 12,
     "metadata": {},
     "output_type": "execute_result"
    }
   ],
   "execution_count": 12
  },
  {
   "metadata": {
    "ExecuteTime": {
     "end_time": "2024-10-25T19:04:44.783221Z",
     "start_time": "2024-10-25T19:04:44.779376Z"
    }
   },
   "cell_type": "code",
   "source": "hamiltonian.coeffs.dtype",
   "id": "9dbce8561a567ec1",
   "outputs": [
    {
     "data": {
      "text/plain": [
       "dtype('complex128')"
      ]
     },
     "execution_count": 13,
     "metadata": {},
     "output_type": "execute_result"
    }
   ],
   "execution_count": 13
  },
  {
   "metadata": {
    "ExecuteTime": {
     "end_time": "2024-10-25T19:04:45.738447Z",
     "start_time": "2024-10-25T19:04:45.726525Z"
    }
   },
   "cell_type": "code",
   "source": "hamiltonian.paulis",
   "id": "6307c3f4c8ab07b3",
   "outputs": [
    {
     "data": {
      "text/plain": [
       "PauliList(['YZ', 'ZI', 'ZZ', 'XX'])"
      ]
     },
     "execution_count": 14,
     "metadata": {},
     "output_type": "execute_result"
    }
   ],
   "execution_count": 14
  },
  {
   "metadata": {
    "ExecuteTime": {
     "end_time": "2024-10-25T19:04:47.093359Z",
     "start_time": "2024-10-25T19:04:47.090536Z"
    }
   },
   "cell_type": "code",
   "source": "",
   "id": "e06772b4790e457d",
   "outputs": [],
   "execution_count": null
  },
  {
   "cell_type": "code",
   "source": [
    "ansatz = EfficientSU2(hamiltonian.num_qubits)\n",
    "ansatz.decompose().draw(\"mpl\", style=\"iqp\")"
   ],
   "metadata": {
    "collapsed": false,
    "ExecuteTime": {
     "end_time": "2024-10-29T20:00:07.663479Z",
     "start_time": "2024-10-29T20:00:06.009067Z"
    }
   },
   "id": "b9b46c88b8d80ed2",
   "outputs": [
    {
     "data": {
      "text/plain": [
       "<Figure size 1039.79x200.667 with 1 Axes>"
      ],
      "image/png": "[encoded data removed]"
     },
     "execution_count": 6,
     "metadata": {},
     "output_type": "execute_result"
    }
   ],
   "execution_count": 6
  },
  {
   "metadata": {
    "ExecuteTime": {
     "end_time": "2024-10-29T20:00:11.778003Z",
     "start_time": "2024-10-29T20:00:11.770366Z"
    }
   },
   "cell_type": "code",
   "source": [
    "ansatz = EfficientSU2(hamiltonian.num_qubits)\n",
    "result = ansatz.decompose()\n",
    "print(type(result))"
   ],
   "id": "f708ae811ba13565",
   "outputs": [
    {
     "name": "stdout",
     "output_type": "stream",
     "text": [
      "<class 'qiskit.circuit.quantumcircuit.QuantumCircuit'>\n"
     ]
    }
   ],
   "execution_count": 7
  },
  {
   "metadata": {
    "ExecuteTime": {
     "end_time": "2024-10-25T19:04:50.675226Z",
     "start_time": "2024-10-25T19:04:50.612302Z"
    }
   },
   "cell_type": "code",
   "source": [
    "result = ansatz.decompose().draw(\"mpl\", style=\"iqp\")\n",
    "print(type(result))"
   ],
   "id": "77646f8df9aca88e",
   "outputs": [
    {
     "name": "stdout",
     "output_type": "stream",
     "text": [
      "<class 'matplotlib.figure.Figure'>\n"
     ]
    }
   ],
   "execution_count": 17
  },
  {
   "metadata": {
    "ExecuteTime": {
     "end_time": "2024-10-25T19:04:51.403860Z",
     "start_time": "2024-10-25T19:04:51.399998Z"
    }
   },
   "cell_type": "code",
   "source": "print(type(ansatz.layout))\n",
   "id": "2cd5fc8043d7c23e",
   "outputs": [
    {
     "name": "stdout",
     "output_type": "stream",
     "text": [
      "<class 'NoneType'>\n"
     ]
    }
   ],
   "execution_count": 18
  },
  {
   "metadata": {
    "ExecuteTime": {
     "end_time": "2024-10-25T19:04:52.063926Z",
     "start_time": "2024-10-25T19:04:52.059642Z"
    }
   },
   "cell_type": "code",
   "source": "type(ansatz)",
   "id": "f71540b8961c8730",
   "outputs": [
    {
     "data": {
      "text/plain": [
       "qiskit.circuit.library.n_local.efficient_su2.EfficientSU2"
      ]
     },
     "execution_count": 19,
     "metadata": {},
     "output_type": "execute_result"
    }
   ],
   "execution_count": 19
  },
  {
   "cell_type": "code",
   "source": [
    "num_params = ansatz.num_parameters\n",
    "num_params"
   ],
   "metadata": {
    "collapsed": false,
    "ExecuteTime": {
     "end_time": "2024-10-29T20:01:49.435407Z",
     "start_time": "2024-10-29T20:01:49.429206Z"
    }
   },
   "id": "f464af4df3d8783b",
   "outputs": [
    {
     "data": {
      "text/plain": [
       "16"
      ]
     },
     "execution_count": 14,
     "metadata": {},
     "output_type": "execute_result"
    }
   ],
   "execution_count": 14
  },
  {
   "cell_type": "code",
   "source": [
    "from qiskit.transpiler.preset_passmanagers import generate_preset_pass_manager\n",
    "\n",
    "target = backend.target\n",
    "pm = generate_preset_pass_manager(target=target, optimization_level=3)\n",
    "\n",
    "ansatz_isa = pm.run(ansatz)"
   ],
   "metadata": {
    "collapsed": false,
    "ExecuteTime": {
     "end_time": "2024-10-29T20:00:19.506903Z",
     "start_time": "2024-10-29T20:00:19.423981Z"
    }
   },
   "id": "c32e83fb5aecb3fc",
   "outputs": [],
   "execution_count": 8
  },
  {
   "metadata": {
    "ExecuteTime": {
     "end_time": "2024-10-25T19:04:54.739945Z",
     "start_time": "2024-10-25T19:04:54.736705Z"
    }
   },
   "cell_type": "code",
   "source": "print(type(ansatz_isa.layout))",
   "id": "5975b4876de28c68",
   "outputs": [
    {
     "name": "stdout",
     "output_type": "stream",
     "text": [
      "<class 'qiskit.transpiler.layout.TranspileLayout'>\n"
     ]
    }
   ],
   "execution_count": 22
  },
  {
   "metadata": {
    "ExecuteTime": {
     "end_time": "2024-10-19T13:39:36.026930Z",
     "start_time": "2024-10-19T13:39:36.021883Z"
    }
   },
   "cell_type": "code",
   "source": "type(pm)",
   "id": "1e372db3fb7bc7d1",
   "outputs": [
    {
     "data": {
      "text/plain": [
       "qiskit.transpiler.passmanager.StagedPassManager"
      ]
     },
     "execution_count": 22,
     "metadata": {},
     "output_type": "execute_result"
    }
   ],
   "execution_count": 22
  },
  {
   "cell_type": "code",
   "source": [
    "ansatz_isa.draw(output=\"mpl\", idle_wires=False, style=\"iqp\")"
   ],
   "metadata": {
    "collapsed": false,
    "ExecuteTime": {
     "end_time": "2024-10-29T20:00:27.523186Z",
     "start_time": "2024-10-29T20:00:26.913838Z"
    }
   },
   "id": "9a6946b9e1070f67",
   "outputs": [
    {
     "data": {
      "text/plain": [
       "<Figure size 2262.83x451.5 with 1 Axes>"
      ],
      "image/png": "[encoded data removed]"
     },
     "execution_count": 9,
     "metadata": {},
     "output_type": "execute_result"
    }
   ],
   "execution_count": 9
  },
  {
   "cell_type": "code",
   "source": [
    "hamiltonian_isa = hamiltonian.apply_layout(layout=ansatz_isa.layout)"
   ],
   "metadata": {
    "collapsed": false,
    "ExecuteTime": {
     "end_time": "2024-10-29T20:00:29.881404Z",
     "start_time": "2024-10-29T20:00:29.877247Z"
    }
   },
   "id": "2926056bb1e84b5b",
   "outputs": [],
   "execution_count": 10
  },
  {
   "cell_type": "code",
   "source": [
    "def cost_func(params, ansatz, hamiltonian, estimator):\n",
    "    \"\"\"Return estimate of energy from estimator\n",
    "\n",
    "    Parameters:\n",
    "        params (ndarray): Array of ansatz parameters\n",
    "        ansatz (QuantumCircuit): Parameterized ansatz circuit\n",
    "        hamiltonian (SparsePauliOp): Operator representation of Hamiltonian\n",
    "        estimator (EstimatorV2): Estimator primitive instance\n",
    "        cost_history_dict: Dictionary for storing intermediate results\n",
    "\n",
    "    Returns:\n",
    "        float: Energy estimate\n",
    "    \"\"\"\n",
    "    pub = (ansatz, [hamiltonian], [params])\n",
    "    result = estimator.run(pubs=[pub]).result()\n",
    "    energy = result[0].data.evs[0]\n",
    "    \n",
    "    print(\"Type of result:\", type(result))\n",
    "    print(\"Type of energy:\", type(energy))\n",
    "\n",
    "    cost_history_dict[\"iters\"] += 1\n",
    "    cost_history_dict[\"prev_vector\"] = params\n",
    "    cost_history_dict[\"cost_history\"].append(energy)\n",
    "    print(f\"Iters. done: {cost_history_dict['iters']} [Current cost: {energy}]\")\n",
    "\n",
    "    return energy"
   ],
   "metadata": {
    "collapsed": false,
    "ExecuteTime": {
     "end_time": "2024-10-29T20:00:32.641779Z",
     "start_time": "2024-10-29T20:00:32.635211Z"
    }
   },
   "id": "e414cd83e3006c58",
   "outputs": [],
   "execution_count": 11
  },
  {
   "cell_type": "code",
   "source": [
    "cost_history_dict = {\n",
    "    \"prev_vector\": None,\n",
    "    \"iters\": 0,\n",
    "    \"cost_history\": [],\n",
    "}"
   ],
   "metadata": {
    "collapsed": false,
    "ExecuteTime": {
     "end_time": "2024-10-29T20:00:38.260120Z",
     "start_time": "2024-10-29T20:00:38.257186Z"
    }
   },
   "id": "931424e55808a53a",
   "outputs": [],
   "execution_count": 12
  },
  {
   "cell_type": "code",
   "source": [
    "x0 = 2 * np.pi * np.random.random(num_params)"
   ],
   "metadata": {
    "collapsed": false,
    "ExecuteTime": {
     "end_time": "2024-10-29T20:01:53.522829Z",
     "start_time": "2024-10-29T20:01:53.518294Z"
    }
   },
   "id": "a694b1367a849bea",
   "outputs": [],
   "execution_count": 15
  },
  {
   "cell_type": "code",
   "source": [
    "x0"
   ],
   "metadata": {
    "collapsed": false,
    "ExecuteTime": {
     "end_time": "2024-10-28T14:07:26.733103Z",
     "start_time": "2024-10-28T14:07:26.728210Z"
    }
   },
   "id": "25334607ddee4bf3",
   "outputs": [
    {
     "data": {
      "text/plain": [
       "array([3.16251316, 0.50596885, 5.18666013, 2.21310832, 0.33578969,\n",
       "       4.35841009, 3.26918393, 4.21467398, 1.21366202, 4.2626165 ,\n",
       "       1.11197276, 1.84210633, 1.51115791, 1.95862157, 3.33112737,\n",
       "       6.25826863])"
      ]
     },
     "execution_count": 20,
     "metadata": {},
     "output_type": "execute_result"
    }
   ],
   "execution_count": 20
  },
  {
   "metadata": {
    "ExecuteTime": {
     "end_time": "2024-10-28T14:07:28.284483Z",
     "start_time": "2024-10-28T14:07:28.279485Z"
    }
   },
   "cell_type": "code",
   "source": "type(x0)",
   "id": "6a8297e4ebf3022d",
   "outputs": [
    {
     "data": {
      "text/plain": [
       "numpy.ndarray"
      ]
     },
     "execution_count": 21,
     "metadata": {},
     "output_type": "execute_result"
    }
   ],
   "execution_count": 21
  },
  {
   "cell_type": "code",
   "source": [
    "with Session(backend=backend) as mode:\n",
    "    estimator = Estimator(mode=mode)\n",
    "    estimator.options.default_shots = 5000  # Reduce the number of shots to speed up each job\n",
    "    \n",
    "    options = {\n",
    "        'maxiter': 50,  # Example: still keeping max iterations\n",
    "        'rhobeg': 0.5,   # Starting value for the trust region radius\n",
    "        'tol': 1e-3      # Final accuracy of the optimization\n",
    "    }\n",
    "\n",
    "    res = minimize(\n",
    "        cost_func,\n",
    "        x0,\n",
    "        args=(hamiltonian_isa, ansatz_isa, estimator),\n",
    "        method=\"cobyla\",\n",
    "        options=options\n",
    "    )"
   ],
   "metadata": {
    "collapsed": false,
    "is_executing": true,
    "ExecuteTime": {
     "end_time": "2024-10-29T20:02:12.523307Z",
     "start_time": "2024-10-29T20:02:10.099076Z"
    }
   },
   "id": "3dc31e38d2fe5855",
   "outputs": [
    {
     "ename": "TypeError",
     "evalue": "Invalid observable type: <class 'qiskit.circuit.quantumcircuit.QuantumCircuit'>",
     "output_type": "error",
     "traceback": [
      "\u001B[1;31m---------------------------------------------------------------------------\u001B[0m",
      "\u001B[1;31mTypeError\u001B[0m                                 Traceback (most recent call last)",
      "Cell \u001B[1;32mIn[16], line 11\u001B[0m\n\u001B[0;32m      3\u001B[0m estimator\u001B[38;5;241m.\u001B[39moptions\u001B[38;5;241m.\u001B[39mdefault_shots \u001B[38;5;241m=\u001B[39m \u001B[38;5;241m5000\u001B[39m  \u001B[38;5;66;03m# Reduce the number of shots to speed up each job\u001B[39;00m\n\u001B[0;32m      5\u001B[0m options \u001B[38;5;241m=\u001B[39m {\n\u001B[0;32m      6\u001B[0m     \u001B[38;5;124m'\u001B[39m\u001B[38;5;124mmaxiter\u001B[39m\u001B[38;5;124m'\u001B[39m: \u001B[38;5;241m50\u001B[39m,  \u001B[38;5;66;03m# Example: still keeping max iterations\u001B[39;00m\n\u001B[0;32m      7\u001B[0m     \u001B[38;5;124m'\u001B[39m\u001B[38;5;124mrhobeg\u001B[39m\u001B[38;5;124m'\u001B[39m: \u001B[38;5;241m0.5\u001B[39m,   \u001B[38;5;66;03m# Starting value for the trust region radius\u001B[39;00m\n\u001B[0;32m      8\u001B[0m     \u001B[38;5;124m'\u001B[39m\u001B[38;5;124mtol\u001B[39m\u001B[38;5;124m'\u001B[39m: \u001B[38;5;241m1e-3\u001B[39m      \u001B[38;5;66;03m# Final accuracy of the optimization\u001B[39;00m\n\u001B[0;32m      9\u001B[0m }\n\u001B[1;32m---> 11\u001B[0m res \u001B[38;5;241m=\u001B[39m \u001B[43mminimize\u001B[49m\u001B[43m(\u001B[49m\n\u001B[0;32m     12\u001B[0m \u001B[43m    \u001B[49m\u001B[43mcost_func\u001B[49m\u001B[43m,\u001B[49m\n\u001B[0;32m     13\u001B[0m \u001B[43m    \u001B[49m\u001B[43mx0\u001B[49m\u001B[43m,\u001B[49m\n\u001B[0;32m     14\u001B[0m \u001B[43m    \u001B[49m\u001B[43margs\u001B[49m\u001B[38;5;241;43m=\u001B[39;49m\u001B[43m(\u001B[49m\u001B[43mhamiltonian_isa\u001B[49m\u001B[43m,\u001B[49m\u001B[43m \u001B[49m\u001B[43mansatz_isa\u001B[49m\u001B[43m,\u001B[49m\u001B[43m \u001B[49m\u001B[43mestimator\u001B[49m\u001B[43m)\u001B[49m\u001B[43m,\u001B[49m\n\u001B[0;32m     15\u001B[0m \u001B[43m    \u001B[49m\u001B[43mmethod\u001B[49m\u001B[38;5;241;43m=\u001B[39;49m\u001B[38;5;124;43m\"\u001B[39;49m\u001B[38;5;124;43mcobyla\u001B[39;49m\u001B[38;5;124;43m\"\u001B[39;49m\u001B[43m,\u001B[49m\n\u001B[0;32m     16\u001B[0m \u001B[43m    \u001B[49m\u001B[43moptions\u001B[49m\u001B[38;5;241;43m=\u001B[39;49m\u001B[43moptions\u001B[49m\n\u001B[0;32m     17\u001B[0m \u001B[43m\u001B[49m\u001B[43m)\u001B[49m\n",
      "File \u001B[1;32m~\\AI\\COMP8800\\Dissertation\\.venv\\Lib\\site-packages\\scipy\\optimize\\_minimize.py:737\u001B[0m, in \u001B[0;36mminimize\u001B[1;34m(fun, x0, args, method, jac, hess, hessp, bounds, constraints, tol, callback, options)\u001B[0m\n\u001B[0;32m    734\u001B[0m     res \u001B[38;5;241m=\u001B[39m _minimize_tnc(fun, x0, args, jac, bounds, callback\u001B[38;5;241m=\u001B[39mcallback,\n\u001B[0;32m    735\u001B[0m                         \u001B[38;5;241m*\u001B[39m\u001B[38;5;241m*\u001B[39moptions)\n\u001B[0;32m    736\u001B[0m \u001B[38;5;28;01melif\u001B[39;00m meth \u001B[38;5;241m==\u001B[39m \u001B[38;5;124m'\u001B[39m\u001B[38;5;124mcobyla\u001B[39m\u001B[38;5;124m'\u001B[39m:\n\u001B[1;32m--> 737\u001B[0m     res \u001B[38;5;241m=\u001B[39m \u001B[43m_minimize_cobyla\u001B[49m\u001B[43m(\u001B[49m\u001B[43mfun\u001B[49m\u001B[43m,\u001B[49m\u001B[43m \u001B[49m\u001B[43mx0\u001B[49m\u001B[43m,\u001B[49m\u001B[43m \u001B[49m\u001B[43margs\u001B[49m\u001B[43m,\u001B[49m\u001B[43m \u001B[49m\u001B[43mconstraints\u001B[49m\u001B[43m,\u001B[49m\u001B[43m \u001B[49m\u001B[43mcallback\u001B[49m\u001B[38;5;241;43m=\u001B[39;49m\u001B[43mcallback\u001B[49m\u001B[43m,\u001B[49m\n\u001B[0;32m    738\u001B[0m \u001B[43m                           \u001B[49m\u001B[43mbounds\u001B[49m\u001B[38;5;241;43m=\u001B[39;49m\u001B[43mbounds\u001B[49m\u001B[43m,\u001B[49m\u001B[43m \u001B[49m\u001B[38;5;241;43m*\u001B[39;49m\u001B[38;5;241;43m*\u001B[39;49m\u001B[43moptions\u001B[49m\u001B[43m)\u001B[49m\n\u001B[0;32m    739\u001B[0m \u001B[38;5;28;01melif\u001B[39;00m meth \u001B[38;5;241m==\u001B[39m \u001B[38;5;124m'\u001B[39m\u001B[38;5;124mcobyqa\u001B[39m\u001B[38;5;124m'\u001B[39m:\n\u001B[0;32m    740\u001B[0m     res \u001B[38;5;241m=\u001B[39m _minimize_cobyqa(fun, x0, args, bounds, constraints, callback,\n\u001B[0;32m    741\u001B[0m                            \u001B[38;5;241m*\u001B[39m\u001B[38;5;241m*\u001B[39moptions)\n",
      "File \u001B[1;32m~\\AI\\COMP8800\\Dissertation\\.venv\\Lib\\site-packages\\scipy\\optimize\\_cobyla_py.py:35\u001B[0m, in \u001B[0;36msynchronized.<locals>.wrapper\u001B[1;34m(*args, **kwargs)\u001B[0m\n\u001B[0;32m     32\u001B[0m \u001B[38;5;129m@functools\u001B[39m\u001B[38;5;241m.\u001B[39mwraps(func)\n\u001B[0;32m     33\u001B[0m \u001B[38;5;28;01mdef\u001B[39;00m \u001B[38;5;21mwrapper\u001B[39m(\u001B[38;5;241m*\u001B[39margs, \u001B[38;5;241m*\u001B[39m\u001B[38;5;241m*\u001B[39mkwargs):\n\u001B[0;32m     34\u001B[0m     \u001B[38;5;28;01mwith\u001B[39;00m _module_lock:\n\u001B[1;32m---> 35\u001B[0m         \u001B[38;5;28;01mreturn\u001B[39;00m \u001B[43mfunc\u001B[49m\u001B[43m(\u001B[49m\u001B[38;5;241;43m*\u001B[39;49m\u001B[43margs\u001B[49m\u001B[43m,\u001B[49m\u001B[43m \u001B[49m\u001B[38;5;241;43m*\u001B[39;49m\u001B[38;5;241;43m*\u001B[39;49m\u001B[43mkwargs\u001B[49m\u001B[43m)\u001B[49m\n",
      "File \u001B[1;32m~\\AI\\COMP8800\\Dissertation\\.venv\\Lib\\site-packages\\scipy\\optimize\\_cobyla_py.py:278\u001B[0m, in \u001B[0;36m_minimize_cobyla\u001B[1;34m(fun, x0, args, constraints, rhobeg, tol, maxiter, disp, catol, callback, bounds, **unknown_options)\u001B[0m\n\u001B[0;32m    275\u001B[0m \u001B[38;5;28;01mdef\u001B[39;00m \u001B[38;5;21m_jac\u001B[39m(x, \u001B[38;5;241m*\u001B[39margs):\n\u001B[0;32m    276\u001B[0m     \u001B[38;5;28;01mreturn\u001B[39;00m \u001B[38;5;28;01mNone\u001B[39;00m\n\u001B[1;32m--> 278\u001B[0m sf \u001B[38;5;241m=\u001B[39m \u001B[43m_prepare_scalar_function\u001B[49m\u001B[43m(\u001B[49m\u001B[43mfun\u001B[49m\u001B[43m,\u001B[49m\u001B[43m \u001B[49m\u001B[43mx0\u001B[49m\u001B[43m,\u001B[49m\u001B[43m \u001B[49m\u001B[43margs\u001B[49m\u001B[38;5;241;43m=\u001B[39;49m\u001B[43margs\u001B[49m\u001B[43m,\u001B[49m\u001B[43m \u001B[49m\u001B[43mjac\u001B[49m\u001B[38;5;241;43m=\u001B[39;49m\u001B[43m_jac\u001B[49m\u001B[43m)\u001B[49m\n\u001B[0;32m    280\u001B[0m \u001B[38;5;28;01mdef\u001B[39;00m \u001B[38;5;21mcalcfc\u001B[39m(x, con):\n\u001B[0;32m    281\u001B[0m     f \u001B[38;5;241m=\u001B[39m sf\u001B[38;5;241m.\u001B[39mfun(x)\n",
      "File \u001B[1;32m~\\AI\\COMP8800\\Dissertation\\.venv\\Lib\\site-packages\\scipy\\optimize\\_optimize.py:288\u001B[0m, in \u001B[0;36m_prepare_scalar_function\u001B[1;34m(fun, x0, jac, args, bounds, epsilon, finite_diff_rel_step, hess)\u001B[0m\n\u001B[0;32m    284\u001B[0m     bounds \u001B[38;5;241m=\u001B[39m (\u001B[38;5;241m-\u001B[39mnp\u001B[38;5;241m.\u001B[39minf, np\u001B[38;5;241m.\u001B[39minf)\n\u001B[0;32m    286\u001B[0m \u001B[38;5;66;03m# ScalarFunction caches. Reuse of fun(x) during grad\u001B[39;00m\n\u001B[0;32m    287\u001B[0m \u001B[38;5;66;03m# calculation reduces overall function evaluations.\u001B[39;00m\n\u001B[1;32m--> 288\u001B[0m sf \u001B[38;5;241m=\u001B[39m \u001B[43mScalarFunction\u001B[49m\u001B[43m(\u001B[49m\u001B[43mfun\u001B[49m\u001B[43m,\u001B[49m\u001B[43m \u001B[49m\u001B[43mx0\u001B[49m\u001B[43m,\u001B[49m\u001B[43m \u001B[49m\u001B[43margs\u001B[49m\u001B[43m,\u001B[49m\u001B[43m \u001B[49m\u001B[43mgrad\u001B[49m\u001B[43m,\u001B[49m\u001B[43m \u001B[49m\u001B[43mhess\u001B[49m\u001B[43m,\u001B[49m\n\u001B[0;32m    289\u001B[0m \u001B[43m                    \u001B[49m\u001B[43mfinite_diff_rel_step\u001B[49m\u001B[43m,\u001B[49m\u001B[43m \u001B[49m\u001B[43mbounds\u001B[49m\u001B[43m,\u001B[49m\u001B[43m \u001B[49m\u001B[43mepsilon\u001B[49m\u001B[38;5;241;43m=\u001B[39;49m\u001B[43mepsilon\u001B[49m\u001B[43m)\u001B[49m\n\u001B[0;32m    291\u001B[0m \u001B[38;5;28;01mreturn\u001B[39;00m sf\n",
      "File \u001B[1;32m~\\AI\\COMP8800\\Dissertation\\.venv\\Lib\\site-packages\\scipy\\optimize\\_differentiable_functions.py:222\u001B[0m, in \u001B[0;36mScalarFunction.__init__\u001B[1;34m(self, fun, x0, args, grad, hess, finite_diff_rel_step, finite_diff_bounds, epsilon)\u001B[0m\n\u001B[0;32m    219\u001B[0m     finite_diff_options[\u001B[38;5;124m\"\u001B[39m\u001B[38;5;124mas_linear_operator\u001B[39m\u001B[38;5;124m\"\u001B[39m] \u001B[38;5;241m=\u001B[39m \u001B[38;5;28;01mTrue\u001B[39;00m\n\u001B[0;32m    221\u001B[0m \u001B[38;5;66;03m# Initial function evaluation\u001B[39;00m\n\u001B[1;32m--> 222\u001B[0m \u001B[38;5;28;43mself\u001B[39;49m\u001B[38;5;241;43m.\u001B[39;49m\u001B[43m_update_fun\u001B[49m\u001B[43m(\u001B[49m\u001B[43m)\u001B[49m\n\u001B[0;32m    224\u001B[0m \u001B[38;5;66;03m# Initial gradient evaluation\u001B[39;00m\n\u001B[0;32m    225\u001B[0m \u001B[38;5;28mself\u001B[39m\u001B[38;5;241m.\u001B[39m_wrapped_grad, \u001B[38;5;28mself\u001B[39m\u001B[38;5;241m.\u001B[39m_ngev \u001B[38;5;241m=\u001B[39m _wrapper_grad(\n\u001B[0;32m    226\u001B[0m     grad,\n\u001B[0;32m    227\u001B[0m     fun\u001B[38;5;241m=\u001B[39m\u001B[38;5;28mself\u001B[39m\u001B[38;5;241m.\u001B[39m_wrapped_fun,\n\u001B[0;32m    228\u001B[0m     args\u001B[38;5;241m=\u001B[39margs,\n\u001B[0;32m    229\u001B[0m     finite_diff_options\u001B[38;5;241m=\u001B[39mfinite_diff_options\n\u001B[0;32m    230\u001B[0m )\n",
      "File \u001B[1;32m~\\AI\\COMP8800\\Dissertation\\.venv\\Lib\\site-packages\\scipy\\optimize\\_differentiable_functions.py:294\u001B[0m, in \u001B[0;36mScalarFunction._update_fun\u001B[1;34m(self)\u001B[0m\n\u001B[0;32m    292\u001B[0m \u001B[38;5;28;01mdef\u001B[39;00m \u001B[38;5;21m_update_fun\u001B[39m(\u001B[38;5;28mself\u001B[39m):\n\u001B[0;32m    293\u001B[0m     \u001B[38;5;28;01mif\u001B[39;00m \u001B[38;5;129;01mnot\u001B[39;00m \u001B[38;5;28mself\u001B[39m\u001B[38;5;241m.\u001B[39mf_updated:\n\u001B[1;32m--> 294\u001B[0m         fx \u001B[38;5;241m=\u001B[39m \u001B[38;5;28;43mself\u001B[39;49m\u001B[38;5;241;43m.\u001B[39;49m\u001B[43m_wrapped_fun\u001B[49m\u001B[43m(\u001B[49m\u001B[38;5;28;43mself\u001B[39;49m\u001B[38;5;241;43m.\u001B[39;49m\u001B[43mx\u001B[49m\u001B[43m)\u001B[49m\n\u001B[0;32m    295\u001B[0m         \u001B[38;5;28;01mif\u001B[39;00m fx \u001B[38;5;241m<\u001B[39m \u001B[38;5;28mself\u001B[39m\u001B[38;5;241m.\u001B[39m_lowest_f:\n\u001B[0;32m    296\u001B[0m             \u001B[38;5;28mself\u001B[39m\u001B[38;5;241m.\u001B[39m_lowest_x \u001B[38;5;241m=\u001B[39m \u001B[38;5;28mself\u001B[39m\u001B[38;5;241m.\u001B[39mx\n",
      "File \u001B[1;32m~\\AI\\COMP8800\\Dissertation\\.venv\\Lib\\site-packages\\scipy\\optimize\\_differentiable_functions.py:20\u001B[0m, in \u001B[0;36m_wrapper_fun.<locals>.wrapped\u001B[1;34m(x)\u001B[0m\n\u001B[0;32m     16\u001B[0m ncalls[\u001B[38;5;241m0\u001B[39m] \u001B[38;5;241m+\u001B[39m\u001B[38;5;241m=\u001B[39m \u001B[38;5;241m1\u001B[39m\n\u001B[0;32m     17\u001B[0m \u001B[38;5;66;03m# Send a copy because the user may overwrite it.\u001B[39;00m\n\u001B[0;32m     18\u001B[0m \u001B[38;5;66;03m# Overwriting results in undefined behaviour because\u001B[39;00m\n\u001B[0;32m     19\u001B[0m \u001B[38;5;66;03m# fun(self.x) will change self.x, with the two no longer linked.\u001B[39;00m\n\u001B[1;32m---> 20\u001B[0m fx \u001B[38;5;241m=\u001B[39m \u001B[43mfun\u001B[49m\u001B[43m(\u001B[49m\u001B[43mnp\u001B[49m\u001B[38;5;241;43m.\u001B[39;49m\u001B[43mcopy\u001B[49m\u001B[43m(\u001B[49m\u001B[43mx\u001B[49m\u001B[43m)\u001B[49m\u001B[43m,\u001B[49m\u001B[43m \u001B[49m\u001B[38;5;241;43m*\u001B[39;49m\u001B[43margs\u001B[49m\u001B[43m)\u001B[49m\n\u001B[0;32m     21\u001B[0m \u001B[38;5;66;03m# Make sure the function returns a true scalar\u001B[39;00m\n\u001B[0;32m     22\u001B[0m \u001B[38;5;28;01mif\u001B[39;00m \u001B[38;5;129;01mnot\u001B[39;00m np\u001B[38;5;241m.\u001B[39misscalar(fx):\n",
      "Cell \u001B[1;32mIn[11], line 15\u001B[0m, in \u001B[0;36mcost_func\u001B[1;34m(params, ansatz, hamiltonian, estimator)\u001B[0m\n\u001B[0;32m      2\u001B[0m \u001B[38;5;250m\u001B[39m\u001B[38;5;124;03m\"\"\"Return estimate of energy from estimator\u001B[39;00m\n\u001B[0;32m      3\u001B[0m \n\u001B[0;32m      4\u001B[0m \u001B[38;5;124;03mParameters:\u001B[39;00m\n\u001B[1;32m   (...)\u001B[0m\n\u001B[0;32m     12\u001B[0m \u001B[38;5;124;03m    float: Energy estimate\u001B[39;00m\n\u001B[0;32m     13\u001B[0m \u001B[38;5;124;03m\"\"\"\u001B[39;00m\n\u001B[0;32m     14\u001B[0m pub \u001B[38;5;241m=\u001B[39m (ansatz, [hamiltonian], [params])\n\u001B[1;32m---> 15\u001B[0m result \u001B[38;5;241m=\u001B[39m \u001B[43mestimator\u001B[49m\u001B[38;5;241;43m.\u001B[39;49m\u001B[43mrun\u001B[49m\u001B[43m(\u001B[49m\u001B[43mpubs\u001B[49m\u001B[38;5;241;43m=\u001B[39;49m\u001B[43m[\u001B[49m\u001B[43mpub\u001B[49m\u001B[43m]\u001B[49m\u001B[43m)\u001B[49m\u001B[38;5;241m.\u001B[39mresult()\n\u001B[0;32m     16\u001B[0m energy \u001B[38;5;241m=\u001B[39m result[\u001B[38;5;241m0\u001B[39m]\u001B[38;5;241m.\u001B[39mdata\u001B[38;5;241m.\u001B[39mevs[\u001B[38;5;241m0\u001B[39m]\n\u001B[0;32m     18\u001B[0m \u001B[38;5;28mprint\u001B[39m(\u001B[38;5;124m\"\u001B[39m\u001B[38;5;124mType of result:\u001B[39m\u001B[38;5;124m\"\u001B[39m, \u001B[38;5;28mtype\u001B[39m(result))\n",
      "File \u001B[1;32m~\\AI\\COMP8800\\Dissertation\\.venv\\Lib\\site-packages\\qiskit_ibm_runtime\\estimator.py:191\u001B[0m, in \u001B[0;36mEstimatorV2.run\u001B[1;34m(self, pubs, precision)\u001B[0m\n\u001B[0;32m    189\u001B[0m     \u001B[38;5;28;01mif\u001B[39;00m precision \u001B[38;5;241m<\u001B[39m\u001B[38;5;241m=\u001B[39m \u001B[38;5;241m0\u001B[39m:\n\u001B[0;32m    190\u001B[0m         \u001B[38;5;28;01mraise\u001B[39;00m \u001B[38;5;167;01mValueError\u001B[39;00m(\u001B[38;5;124m\"\u001B[39m\u001B[38;5;124mThe precision value must be strictly greater than 0.\u001B[39m\u001B[38;5;124m\"\u001B[39m)\n\u001B[1;32m--> 191\u001B[0m coerced_pubs \u001B[38;5;241m=\u001B[39m [\u001B[43mEstimatorPub\u001B[49m\u001B[38;5;241;43m.\u001B[39;49m\u001B[43mcoerce\u001B[49m\u001B[43m(\u001B[49m\u001B[43mpub\u001B[49m\u001B[43m,\u001B[49m\u001B[43m \u001B[49m\u001B[43mprecision\u001B[49m\u001B[43m)\u001B[49m \u001B[38;5;28;01mfor\u001B[39;00m pub \u001B[38;5;129;01min\u001B[39;00m pubs]\n\u001B[0;32m    192\u001B[0m validate_estimator_pubs(coerced_pubs)\n\u001B[0;32m    193\u001B[0m \u001B[38;5;28;01mreturn\u001B[39;00m \u001B[38;5;28mself\u001B[39m\u001B[38;5;241m.\u001B[39m_run(coerced_pubs)\n",
      "File \u001B[1;32m~\\AI\\COMP8800\\Dissertation\\.venv\\Lib\\site-packages\\qiskit\\primitives\\containers\\estimator_pub.py:149\u001B[0m, in \u001B[0;36mEstimatorPub.coerce\u001B[1;34m(cls, pub, precision)\u001B[0m\n\u001B[0;32m    145\u001B[0m     \u001B[38;5;28;01mraise\u001B[39;00m \u001B[38;5;167;01mValueError\u001B[39;00m(\n\u001B[0;32m    146\u001B[0m         \u001B[38;5;124mf\u001B[39m\u001B[38;5;124m\"\u001B[39m\u001B[38;5;124mThe length of pub must be 2, 3 or 4, but length \u001B[39m\u001B[38;5;132;01m{\u001B[39;00m\u001B[38;5;28mlen\u001B[39m(pub)\u001B[38;5;132;01m}\u001B[39;00m\u001B[38;5;124m is given.\u001B[39m\u001B[38;5;124m\"\u001B[39m\n\u001B[0;32m    147\u001B[0m     )\n\u001B[0;32m    148\u001B[0m circuit \u001B[38;5;241m=\u001B[39m pub[\u001B[38;5;241m0\u001B[39m]\n\u001B[1;32m--> 149\u001B[0m observables \u001B[38;5;241m=\u001B[39m \u001B[43mObservablesArray\u001B[49m\u001B[38;5;241;43m.\u001B[39;49m\u001B[43mcoerce\u001B[49m\u001B[43m(\u001B[49m\u001B[43mpub\u001B[49m\u001B[43m[\u001B[49m\u001B[38;5;241;43m1\u001B[39;49m\u001B[43m]\u001B[49m\u001B[43m)\u001B[49m\n\u001B[0;32m    151\u001B[0m \u001B[38;5;28;01mif\u001B[39;00m \u001B[38;5;28mlen\u001B[39m(pub) \u001B[38;5;241m>\u001B[39m \u001B[38;5;241m2\u001B[39m \u001B[38;5;129;01mand\u001B[39;00m pub[\u001B[38;5;241m2\u001B[39m] \u001B[38;5;129;01mis\u001B[39;00m \u001B[38;5;129;01mnot\u001B[39;00m \u001B[38;5;28;01mNone\u001B[39;00m:\n\u001B[0;32m    152\u001B[0m     values \u001B[38;5;241m=\u001B[39m pub[\u001B[38;5;241m2\u001B[39m]\n",
      "File \u001B[1;32m~\\AI\\COMP8800\\Dissertation\\.venv\\Lib\\site-packages\\qiskit\\primitives\\containers\\observables_array.py:233\u001B[0m, in \u001B[0;36mObservablesArray.coerce\u001B[1;34m(cls, observables)\u001B[0m\n\u001B[0;32m    231\u001B[0m \u001B[38;5;28;01mif\u001B[39;00m \u001B[38;5;28misinstance\u001B[39m(observables, ObservablesArray):\n\u001B[0;32m    232\u001B[0m     \u001B[38;5;28;01mreturn\u001B[39;00m observables\n\u001B[1;32m--> 233\u001B[0m \u001B[38;5;28;01mreturn\u001B[39;00m \u001B[38;5;28;43mcls\u001B[39;49m\u001B[43m(\u001B[49m\u001B[43mobservables\u001B[49m\u001B[43m)\u001B[49m\n",
      "File \u001B[1;32m~\\AI\\COMP8800\\Dissertation\\.venv\\Lib\\site-packages\\qiskit\\primitives\\containers\\observables_array.py:83\u001B[0m, in \u001B[0;36mObservablesArray.__init__\u001B[1;34m(self, observables, copy, validate)\u001B[0m\n\u001B[0;32m     81\u001B[0m num_qubits \u001B[38;5;241m=\u001B[39m \u001B[38;5;28;01mNone\u001B[39;00m\n\u001B[0;32m     82\u001B[0m \u001B[38;5;28;01mfor\u001B[39;00m ndi, obs \u001B[38;5;129;01min\u001B[39;00m np\u001B[38;5;241m.\u001B[39mndenumerate(\u001B[38;5;28mself\u001B[39m\u001B[38;5;241m.\u001B[39m_array):\n\u001B[1;32m---> 83\u001B[0m     basis_obs \u001B[38;5;241m=\u001B[39m \u001B[38;5;28;43mself\u001B[39;49m\u001B[38;5;241;43m.\u001B[39;49m\u001B[43mcoerce_observable\u001B[49m\u001B[43m(\u001B[49m\u001B[43mobs\u001B[49m\u001B[43m)\u001B[49m\n\u001B[0;32m     84\u001B[0m     basis_num_qubits \u001B[38;5;241m=\u001B[39m \u001B[38;5;28mlen\u001B[39m(\u001B[38;5;28mnext\u001B[39m(\u001B[38;5;28miter\u001B[39m(basis_obs)))\n\u001B[0;32m     85\u001B[0m     \u001B[38;5;28;01mif\u001B[39;00m num_qubits \u001B[38;5;129;01mis\u001B[39;00m \u001B[38;5;28;01mNone\u001B[39;00m:\n",
      "File \u001B[1;32m~\\AI\\COMP8800\\Dissertation\\.venv\\Lib\\site-packages\\qiskit\\primitives\\containers\\observables_array.py:219\u001B[0m, in \u001B[0;36mObservablesArray.coerce_observable\u001B[1;34m(cls, observable)\u001B[0m\n\u001B[0;32m    216\u001B[0m         unique[basis] \u001B[38;5;241m+\u001B[39m\u001B[38;5;241m=\u001B[39m coeff\n\u001B[0;32m    217\u001B[0m     \u001B[38;5;28;01mreturn\u001B[39;00m \u001B[38;5;28mdict\u001B[39m(unique)\n\u001B[1;32m--> 219\u001B[0m \u001B[38;5;28;01mraise\u001B[39;00m \u001B[38;5;167;01mTypeError\u001B[39;00m(\u001B[38;5;124mf\u001B[39m\u001B[38;5;124m\"\u001B[39m\u001B[38;5;124mInvalid observable type: \u001B[39m\u001B[38;5;132;01m{\u001B[39;00m\u001B[38;5;28mtype\u001B[39m(observable)\u001B[38;5;132;01m}\u001B[39;00m\u001B[38;5;124m\"\u001B[39m)\n",
      "\u001B[1;31mTypeError\u001B[0m: Invalid observable type: <class 'qiskit.circuit.quantumcircuit.QuantumCircuit'>"
     ]
    }
   ],
   "execution_count": 16
  },
  {
   "cell_type": "code",
   "source": "res",
   "metadata": {
    "collapsed": false,
    "is_executing": true,
    "jupyter": {
     "is_executing": true
    }
   },
   "id": "7311fad62fad18b2",
   "outputs": [],
   "execution_count": null
  },
  {
   "metadata": {
    "jupyter": {
     "is_executing": true
    }
   },
   "cell_type": "code",
   "source": "all(cost_history_dict[\"prev_vector\"] == res.x)",
   "id": "76ffc67514f6db9b",
   "outputs": [],
   "execution_count": null
  },
  {
   "metadata": {},
   "cell_type": "code",
   "outputs": [],
   "execution_count": null,
   "source": "cost_history_dict[\"iters\"] == res.nfev",
   "id": "f1766986cc505cf3"
  },
  {
   "metadata": {
    "ExecuteTime": {
     "end_time": "2024-10-28T18:50:53.657059Z",
     "start_time": "2024-10-28T18:50:53.574853Z"
    }
   },
   "cell_type": "code",
   "source": [
    "fig, ax = plt.subplots()\n",
    "ax.plot(range(cost_history_dict[\"iters\"]), cost_history_dict[\"cost_history\"])\n",
    "ax.set_xlabel(\"Iterations\")\n",
    "ax.set_ylabel(\"Cost\")\n",
    "result = plt.draw()\n",
    "print(type(result))"
   ],
   "id": "4ce8361adf40775d",
   "outputs": [
    {
     "name": "stdout",
     "output_type": "stream",
     "text": [
      "<class 'NoneType'>\n"
     ]
    },
    {
     "data": {
      "text/plain": [
       "<Figure size 640x480 with 1 Axes>"
      ],
      "image/png": "[encoded data removed]"
     },
     "metadata": {},
     "output_type": "display_data"
    }
   ],
   "execution_count": 29
  },
  {
   "metadata": {},
   "cell_type": "code",
   "outputs": [],
   "execution_count": null,
   "source": [
    "import qiskit_ibm_runtime\n",
    "\n",
    "qiskit_ibm_runtime.version.get_version_info()"
   ],
   "id": "4819b1bf0f007877"
  },
  {
   "metadata": {},
   "cell_type": "code",
   "outputs": [],
   "execution_count": null,
   "source": [
    "import qiskit\n",
    "\n",
    "qiskit.version.get_version_info()"
   ],
   "id": "9fc9d92f969ad7a1"
  }
 ],
 "metadata": {
  "kernelspec": {
   "display_name": "Python 3",
   "language": "python",
   "name": "python3"
  },
  "language_info": {
   "codemirror_mode": {
    "name": "ipython",
    "version": 2
   },
   "file_extension": ".py",
   "mimetype": "text/x-python",
   "name": "python",
   "nbconvert_exporter": "python",
   "pygments_lexer": "ipython2",
   "version": "2.7.6"
  }
 },
 "nbformat": 4,
 "nbformat_minor": 5
}
