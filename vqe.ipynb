{
 "cells": [
  {
   "cell_type": "code",
   "id": "initial_id",
   "metadata": {
    "collapsed": true,
    "ExecuteTime": {
     "end_time": "2024-10-25T14:23:18.152819Z",
     "start_time": "2024-10-25T14:23:16.242353Z"
    }
   },
   "source": [
    "# General imports\n",
    "import numpy as np\n",
    "\n",
    "# Pre-defined ansatz circuit and operator class for Hamiltonian\n",
    "from qiskit.circuit.library import EfficientSU2\n",
    "from qiskit.quantum_info import SparsePauliOp\n",
    "\n",
    "# SciPy minimizer routine\n",
    "from scipy.optimize import minimize\n",
    "\n",
    "# Plotting functions\n",
    "import matplotlib.pyplot as plt"
   ],
   "outputs": [],
   "execution_count": 1
  },
  {
   "metadata": {
    "ExecuteTime": {
     "end_time": "2024-10-25T14:23:19.288453Z",
     "start_time": "2024-10-25T14:23:18.164266Z"
    }
   },
   "cell_type": "code",
   "source": [
    "from qiskit_ibm_runtime import QiskitRuntimeService\n",
    "\n",
    "# Save an IBM Cloud account on disk\n",
    "token = 'a9eb29bb95b80902e25e92793712fec6704c61eb1b875dd3a00eee41a52a499744985608913bad9fbb354d4c513bc5d43d5a92a2646c135045a675e57808abba'  # <== Use your token here\n",
    "QiskitRuntimeService.save_account(channel=\"ibm_quantum\", token=token, overwrite=True)"
   ],
   "id": "5d51309e0d8fe2f9",
   "outputs": [],
   "execution_count": 2
  },
  {
   "cell_type": "code",
   "source": [
    "# runtime imports\n",
    "from qiskit_ibm_runtime import QiskitRuntimeService, Session\n",
    "from qiskit_ibm_runtime import EstimatorV2 as Estimator\n",
    "\n",
    "# To run on hardware, select the backend with the fewest number of jobs in the queue\n",
    "service = QiskitRuntimeService(channel=\"ibm_quantum\")\n",
    "backend = service.least_busy(operational=True, simulator=False)"
   ],
   "metadata": {
    "collapsed": false,
    "ExecuteTime": {
     "end_time": "2024-10-25T14:23:52.848401Z",
     "start_time": "2024-10-25T14:23:20.674421Z"
    }
   },
   "id": "d3c470d7d5afffd6",
   "outputs": [],
   "execution_count": 3
  },
  {
   "metadata": {
    "ExecuteTime": {
     "end_time": "2024-10-25T14:23:52.868003Z",
     "start_time": "2024-10-25T14:23:52.861593Z"
    }
   },
   "cell_type": "code",
   "source": "type(backend)",
   "id": "6a217100d5a372e8",
   "outputs": [
    {
     "data": {
      "text/plain": [
       "qiskit_ibm_runtime.ibm_backend.IBMBackend"
      ]
     },
     "execution_count": 4,
     "metadata": {},
     "output_type": "execute_result"
    }
   ],
   "execution_count": 4
  },
  {
   "metadata": {
    "ExecuteTime": {
     "end_time": "2024-10-25T14:23:56.832718Z",
     "start_time": "2024-10-25T14:23:56.473239Z"
    }
   },
   "cell_type": "code",
   "source": [
    "status = backend.status()\n",
    "print(status)"
   ],
   "id": "d51f6bbf1b119056",
   "outputs": [
    {
     "name": "stdout",
     "output_type": "stream",
     "text": [
      "<qiskit_ibm_runtime.models.backend_status.BackendStatus object at 0x00000260D859C230>\n"
     ]
    }
   ],
   "execution_count": 5
  },
  {
   "metadata": {
    "ExecuteTime": {
     "end_time": "2024-10-25T14:23:56.918495Z",
     "start_time": "2024-10-25T14:23:56.914853Z"
    }
   },
   "cell_type": "code",
   "source": "print(status.to_dict())",
   "id": "da92746fddf5bf73",
   "outputs": [
    {
     "name": "stdout",
     "output_type": "stream",
     "text": [
      "{'backend_name': 'ibm_sherbrooke', 'backend_version': '', 'operational': True, 'pending_jobs': 34, 'status_msg': 'active'}\n"
     ]
    }
   ],
   "execution_count": 6
  },
  {
   "metadata": {
    "ExecuteTime": {
     "end_time": "2024-10-25T14:24:21.460899Z",
     "start_time": "2024-10-25T14:24:21.457463Z"
    }
   },
   "cell_type": "code",
   "source": "print(status.operational)",
   "id": "af127f81044d75fc",
   "outputs": [
    {
     "name": "stdout",
     "output_type": "stream",
     "text": [
      "True\n"
     ]
    }
   ],
   "execution_count": 10
  },
  {
   "metadata": {
    "ExecuteTime": {
     "end_time": "2024-10-25T14:24:22.276681Z",
     "start_time": "2024-10-25T14:24:22.272624Z"
    }
   },
   "cell_type": "code",
   "source": "print(status.pending_jobs)",
   "id": "2c611c1ffc59e434",
   "outputs": [
    {
     "name": "stdout",
     "output_type": "stream",
     "text": [
      "34\n"
     ]
    }
   ],
   "execution_count": 11
  },
  {
   "metadata": {
    "ExecuteTime": {
     "end_time": "2024-10-25T14:24:23.294323Z",
     "start_time": "2024-10-25T14:24:23.290490Z"
    }
   },
   "cell_type": "code",
   "source": "print(dir(status))",
   "id": "e947c2fcee448949",
   "outputs": [
    {
     "name": "stdout",
     "output_type": "stream",
     "text": [
      "['__class__', '__delattr__', '__dict__', '__dir__', '__doc__', '__eq__', '__format__', '__ge__', '__getattribute__', '__getstate__', '__gt__', '__hash__', '__init__', '__init_subclass__', '__le__', '__lt__', '__module__', '__ne__', '__new__', '__reduce__', '__reduce_ex__', '__repr__', '__setattr__', '__sizeof__', '__str__', '__subclasshook__', '__weakref__', '_repr_html_', 'backend_name', 'backend_version', 'from_dict', 'operational', 'pending_jobs', 'status_msg', 'to_dict']\n"
     ]
    }
   ],
   "execution_count": 12
  },
  {
   "cell_type": "code",
   "source": [
    "hamiltonian = SparsePauliOp.from_list(\n",
    "    [(\"YZ\", 0.3980), (\"ZI\", -0.3980), (\"ZZ\", -0.0113), (\"XX\", 0.1810)]\n",
    ")"
   ],
   "metadata": {
    "collapsed": false,
    "ExecuteTime": {
     "end_time": "2024-10-25T14:24:25.392883Z",
     "start_time": "2024-10-25T14:24:25.388108Z"
    }
   },
   "id": "7148d8350ecc1354",
   "outputs": [],
   "execution_count": 13
  },
  {
   "metadata": {
    "ExecuteTime": {
     "end_time": "2024-10-25T14:24:27.603893Z",
     "start_time": "2024-10-25T14:24:27.599918Z"
    }
   },
   "cell_type": "code",
   "source": "type(hamiltonian)",
   "id": "96da0c86fcacb14e",
   "outputs": [
    {
     "data": {
      "text/plain": [
       "qiskit.quantum_info.operators.symplectic.sparse_pauli_op.SparsePauliOp"
      ]
     },
     "execution_count": 14,
     "metadata": {},
     "output_type": "execute_result"
    }
   ],
   "execution_count": 14
  },
  {
   "metadata": {
    "ExecuteTime": {
     "end_time": "2024-10-25T14:24:28.522765Z",
     "start_time": "2024-10-25T14:24:28.518508Z"
    }
   },
   "cell_type": "code",
   "source": "hamiltonian.coeffs",
   "id": "57ce9afeae4addbd",
   "outputs": [
    {
     "data": {
      "text/plain": [
       "array([ 0.398 +0.j, -0.398 +0.j, -0.0113+0.j,  0.181 +0.j])"
      ]
     },
     "execution_count": 15,
     "metadata": {},
     "output_type": "execute_result"
    }
   ],
   "execution_count": 15
  },
  {
   "metadata": {
    "ExecuteTime": {
     "end_time": "2024-10-25T14:24:30.099276Z",
     "start_time": "2024-10-25T14:24:30.095348Z"
    }
   },
   "cell_type": "code",
   "source": "hamiltonian.coeffs.dtype",
   "id": "9dbce8561a567ec1",
   "outputs": [
    {
     "data": {
      "text/plain": [
       "dtype('complex128')"
      ]
     },
     "execution_count": 16,
     "metadata": {},
     "output_type": "execute_result"
    }
   ],
   "execution_count": 16
  },
  {
   "metadata": {
    "ExecuteTime": {
     "end_time": "2024-10-25T14:24:31.425848Z",
     "start_time": "2024-10-25T14:24:31.421041Z"
    }
   },
   "cell_type": "code",
   "source": "hamiltonian.paulis",
   "id": "6307c3f4c8ab07b3",
   "outputs": [
    {
     "data": {
      "text/plain": [
       "PauliList(['YZ', 'ZI', 'ZZ', 'XX'])"
      ]
     },
     "execution_count": 17,
     "metadata": {},
     "output_type": "execute_result"
    }
   ],
   "execution_count": 17
  },
  {
   "metadata": {},
   "cell_type": "code",
   "outputs": [],
   "execution_count": null,
   "source": "",
   "id": "e06772b4790e457d"
  },
  {
   "cell_type": "code",
   "source": [
    "ansatz = EfficientSU2(hamiltonian.num_qubits)\n",
    "ansatz.decompose().draw(\"mpl\", style=\"iqp\")"
   ],
   "metadata": {
    "collapsed": false,
    "ExecuteTime": {
     "end_time": "2024-10-25T16:40:27.467504Z",
     "start_time": "2024-10-25T16:40:26.906964Z"
    }
   },
   "id": "b9b46c88b8d80ed2",
   "outputs": [
    {
     "data": {
      "text/plain": [
       "<Figure size 1039.79x200.667 with 1 Axes>"
      ],
      "image/png": "[encoded data removed]"
     },
     "execution_count": 25,
     "metadata": {},
     "output_type": "execute_result"
    }
   ],
   "execution_count": 25
  },
  {
   "metadata": {
    "ExecuteTime": {
     "end_time": "2024-10-25T16:43:20.655070Z",
     "start_time": "2024-10-25T16:43:20.648345Z"
    }
   },
   "cell_type": "code",
   "source": [
    "ansatz = EfficientSU2(hamiltonian.num_qubits)\n",
    "result = ansatz.decompose()\n",
    "print(type(result))"
   ],
   "id": "f708ae811ba13565",
   "outputs": [
    {
     "name": "stdout",
     "output_type": "stream",
     "text": [
      "<class 'qiskit.circuit.quantumcircuit.QuantumCircuit'>\n"
     ]
    }
   ],
   "execution_count": 27
  },
  {
   "metadata": {
    "ExecuteTime": {
     "end_time": "2024-10-25T16:41:05.364094Z",
     "start_time": "2024-10-25T16:41:05.310732Z"
    }
   },
   "cell_type": "code",
   "source": [
    "result = ansatz.decompose().draw(\"mpl\", style=\"iqp\")\n",
    "print(type(result))"
   ],
   "id": "77646f8df9aca88e",
   "outputs": [
    {
     "name": "stdout",
     "output_type": "stream",
     "text": [
      "<class 'matplotlib.figure.Figure'>\n"
     ]
    }
   ],
   "execution_count": 26
  },
  {
   "metadata": {
    "ExecuteTime": {
     "end_time": "2024-10-25T14:25:48.358533Z",
     "start_time": "2024-10-25T14:25:48.354926Z"
    }
   },
   "cell_type": "code",
   "source": "print(type(ansatz.layout))\n",
   "id": "2cd5fc8043d7c23e",
   "outputs": [
    {
     "name": "stdout",
     "output_type": "stream",
     "text": [
      "<class 'NoneType'>\n"
     ]
    }
   ],
   "execution_count": 22
  },
  {
   "metadata": {
    "ExecuteTime": {
     "end_time": "2024-10-19T13:39:02.072698Z",
     "start_time": "2024-10-19T13:39:02.069164Z"
    }
   },
   "cell_type": "code",
   "source": "type(ansatz)",
   "id": "f71540b8961c8730",
   "outputs": [
    {
     "data": {
      "text/plain": [
       "qiskit.circuit.library.n_local.efficient_su2.EfficientSU2"
      ]
     },
     "execution_count": 17,
     "metadata": {},
     "output_type": "execute_result"
    }
   ],
   "execution_count": 17
  },
  {
   "cell_type": "code",
   "source": [
    "num_params = ansatz.num_parameters\n",
    "num_params"
   ],
   "metadata": {
    "collapsed": false,
    "ExecuteTime": {
     "end_time": "2024-10-19T13:39:05.780213Z",
     "start_time": "2024-10-19T13:39:05.775685Z"
    }
   },
   "id": "f464af4df3d8783b",
   "outputs": [
    {
     "data": {
      "text/plain": [
       "16"
      ]
     },
     "execution_count": 18,
     "metadata": {},
     "output_type": "execute_result"
    }
   ],
   "execution_count": 18
  },
  {
   "cell_type": "code",
   "source": [
    "from qiskit.transpiler.preset_passmanagers import generate_preset_pass_manager\n",
    "\n",
    "target = backend.target\n",
    "pm = generate_preset_pass_manager(target=target, optimization_level=3)\n",
    "\n",
    "ansatz_isa = pm.run(ansatz)"
   ],
   "metadata": {
    "collapsed": false,
    "ExecuteTime": {
     "end_time": "2024-10-25T14:28:02.718558Z",
     "start_time": "2024-10-25T14:28:02.631862Z"
    }
   },
   "id": "c32e83fb5aecb3fc",
   "outputs": [],
   "execution_count": 23
  },
  {
   "metadata": {
    "ExecuteTime": {
     "end_time": "2024-10-25T14:28:18.551025Z",
     "start_time": "2024-10-25T14:28:18.547285Z"
    }
   },
   "cell_type": "code",
   "source": "print(type(ansatz_isa.layout))",
   "id": "5975b4876de28c68",
   "outputs": [
    {
     "name": "stdout",
     "output_type": "stream",
     "text": [
      "<class 'qiskit.transpiler.layout.TranspileLayout'>\n"
     ]
    }
   ],
   "execution_count": 24
  },
  {
   "metadata": {
    "ExecuteTime": {
     "end_time": "2024-10-19T13:39:36.026930Z",
     "start_time": "2024-10-19T13:39:36.021883Z"
    }
   },
   "cell_type": "code",
   "source": "type(pm)",
   "id": "1e372db3fb7bc7d1",
   "outputs": [
    {
     "data": {
      "text/plain": [
       "qiskit.transpiler.passmanager.StagedPassManager"
      ]
     },
     "execution_count": 22,
     "metadata": {},
     "output_type": "execute_result"
    }
   ],
   "execution_count": 22
  },
  {
   "cell_type": "code",
   "source": [
    "ansatz_isa.draw(output=\"mpl\", idle_wires=False, style=\"iqp\")"
   ],
   "metadata": {
    "collapsed": false,
    "ExecuteTime": {
     "end_time": "2024-10-21T17:17:32.124208Z",
     "start_time": "2024-10-21T17:17:31.537363Z"
    }
   },
   "id": "9a6946b9e1070f67",
   "outputs": [
    {
     "data": {
      "text/plain": [
       "<Figure size 2281.46x451.5 with 1 Axes>"
      ],
      "image/png": "[encoded data removed]"
     },
     "execution_count": 14,
     "metadata": {},
     "output_type": "execute_result"
    }
   ],
   "execution_count": 14
  },
  {
   "cell_type": "code",
   "source": [
    "hamiltonian_isa = hamiltonian.apply_layout(layout=ansatz_isa.layout)"
   ],
   "metadata": {
    "collapsed": false,
    "ExecuteTime": {
     "end_time": "2024-10-21T17:16:50.005725Z",
     "start_time": "2024-10-21T17:16:50.002082Z"
    }
   },
   "id": "2926056bb1e84b5b",
   "outputs": [],
   "execution_count": 7
  },
  {
   "cell_type": "code",
   "source": [
    "def cost_func(params, ansatz, hamiltonian, estimator):\n",
    "    \"\"\"Return estimate of energy from estimator\n",
    "\n",
    "    Parameters:\n",
    "        params (ndarray): Array of ansatz parameters\n",
    "        ansatz (QuantumCircuit): Parameterized ansatz circuit\n",
    "        hamiltonian (SparsePauliOp): Operator representation of Hamiltonian\n",
    "        estimator (EstimatorV2): Estimator primitive instance\n",
    "        cost_history_dict: Dictionary for storing intermediate results\n",
    "\n",
    "    Returns:\n",
    "        float: Energy estimate\n",
    "    \"\"\"\n",
    "    pub = (ansatz, [hamiltonian], [params])\n",
    "    result = estimator.run(pubs=[pub]).result()\n",
    "    energy = result[0].data.evs[0]\n",
    "\n",
    "    cost_history_dict[\"iters\"] += 1\n",
    "    cost_history_dict[\"prev_vector\"] = params\n",
    "    cost_history_dict[\"cost_history\"].append(energy)\n",
    "    print(f\"Iters. done: {cost_history_dict['iters']} [Current cost: {energy}]\")\n",
    "\n",
    "    return energy"
   ],
   "metadata": {
    "collapsed": false,
    "ExecuteTime": {
     "end_time": "2024-10-21T17:17:35.757401Z",
     "start_time": "2024-10-21T17:17:35.752989Z"
    }
   },
   "id": "e414cd83e3006c58",
   "outputs": [],
   "execution_count": 15
  },
  {
   "cell_type": "code",
   "source": [
    "cost_history_dict = {\n",
    "    \"prev_vector\": None,\n",
    "    \"iters\": 0,\n",
    "    \"cost_history\": [],\n",
    "}"
   ],
   "metadata": {
    "collapsed": false,
    "ExecuteTime": {
     "end_time": "2024-07-21T16:05:02.088243Z",
     "start_time": "2024-07-21T16:05:02.075725Z"
    }
   },
   "id": "931424e55808a53a",
   "outputs": [],
   "execution_count": 10
  },
  {
   "cell_type": "code",
   "source": [
    "x0 = 2 * np.pi * np.random.random(num_params)"
   ],
   "metadata": {
    "collapsed": false,
    "ExecuteTime": {
     "end_time": "2024-07-21T16:05:02.103465Z",
     "start_time": "2024-07-21T16:05:02.089241Z"
    }
   },
   "id": "a694b1367a849bea",
   "outputs": [],
   "execution_count": 11
  },
  {
   "cell_type": "code",
   "source": [
    "x0"
   ],
   "metadata": {
    "collapsed": false,
    "ExecuteTime": {
     "end_time": "2024-07-21T16:05:02.119094Z",
     "start_time": "2024-07-21T16:05:02.104576Z"
    }
   },
   "id": "25334607ddee4bf3",
   "outputs": [
    {
     "data": {
      "text/plain": [
       "array([1.88851751e+00, 3.36301644e+00, 3.55605454e+00, 8.03785342e-01,\n",
       "       4.19439154e+00, 3.05350315e+00, 1.94171096e-01, 2.33524858e+00,\n",
       "       1.63905611e+00, 3.84907500e+00, 5.82559846e-04, 3.01001044e+00,\n",
       "       1.58752841e+00, 4.32643921e+00, 5.16877039e-01, 5.36343407e-01])"
      ]
     },
     "execution_count": 12,
     "metadata": {},
     "output_type": "execute_result"
    }
   ],
   "execution_count": 12
  },
  {
   "cell_type": "code",
   "source": [
    "with Session(backend=backend) as mode:\n",
    "    estimator = Estimator(mode=mode)\n",
    "    estimator.options.default_shots = 5000  # Reduce the number of shots to speed up each job\n",
    "    \n",
    "    options = {\n",
    "        'maxiter': 50,  # Example: still keeping max iterations\n",
    "        'rhobeg': 0.5,   # Starting value for the trust region radius\n",
    "        'tol': 1e-3      # Final accuracy of the optimization\n",
    "    }\n",
    "\n",
    "    res = minimize(\n",
    "        cost_func,\n",
    "        x0,\n",
    "        args=(ansatz_isa, hamiltonian_isa, estimator),\n",
    "        method=\"cobyla\",\n",
    "        options=options\n",
    "    )"
   ],
   "metadata": {
    "collapsed": false,
    "is_executing": true,
    "jupyter": {
     "is_executing": true
    },
    "ExecuteTime": {
     "start_time": "2024-07-21T16:05:02.120101Z"
    }
   },
   "id": "3dc31e38d2fe5855",
   "outputs": [],
   "execution_count": null
  },
  {
   "cell_type": "code",
   "source": "res",
   "metadata": {
    "collapsed": false,
    "is_executing": true,
    "jupyter": {
     "is_executing": true
    }
   },
   "id": "7311fad62fad18b2",
   "outputs": [],
   "execution_count": null
  },
  {
   "metadata": {
    "jupyter": {
     "is_executing": true
    }
   },
   "cell_type": "code",
   "source": "all(cost_history_dict[\"prev_vector\"] == res.x)",
   "id": "76ffc67514f6db9b",
   "outputs": [],
   "execution_count": null
  },
  {
   "metadata": {},
   "cell_type": "code",
   "outputs": [],
   "execution_count": null,
   "source": "cost_history_dict[\"iters\"] == res.nfev",
   "id": "f1766986cc505cf3"
  },
  {
   "metadata": {},
   "cell_type": "code",
   "outputs": [],
   "execution_count": null,
   "source": [
    "fig, ax = plt.subplots()\n",
    "ax.plot(range(cost_history_dict[\"iters\"]), cost_history_dict[\"cost_history\"])\n",
    "ax.set_xlabel(\"Iterations\")\n",
    "ax.set_ylabel(\"Cost\")\n",
    "plt.draw()"
   ],
   "id": "4ce8361adf40775d"
  },
  {
   "metadata": {},
   "cell_type": "code",
   "outputs": [],
   "execution_count": null,
   "source": [
    "import qiskit_ibm_runtime\n",
    "\n",
    "qiskit_ibm_runtime.version.get_version_info()"
   ],
   "id": "4819b1bf0f007877"
  },
  {
   "metadata": {},
   "cell_type": "code",
   "outputs": [],
   "execution_count": null,
   "source": [
    "import qiskit\n",
    "\n",
    "qiskit.version.get_version_info()"
   ],
   "id": "9fc9d92f969ad7a1"
  }
 ],
 "metadata": {
  "kernelspec": {
   "display_name": "Python 3",
   "language": "python",
   "name": "python3"
  },
  "language_info": {
   "codemirror_mode": {
    "name": "ipython",
    "version": 2
   },
   "file_extension": ".py",
   "mimetype": "text/x-python",
   "name": "python",
   "nbconvert_exporter": "python",
   "pygments_lexer": "ipython2",
   "version": "2.7.6"
  }
 },
 "nbformat": 4,
 "nbformat_minor": 5
}
